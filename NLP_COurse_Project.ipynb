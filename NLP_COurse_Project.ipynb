{
  "nbformat": 4,
  "nbformat_minor": 0,
  "metadata": {
    "kernelspec": {
      "name": "python3",
      "display_name": "Python 3"
    },
    "language_info": {
      "codemirror_mode": {
        "name": "ipython",
        "version": 3
      },
      "file_extension": ".py",
      "mimetype": "text/x-python",
      "name": "python",
      "nbconvert_exporter": "python",
      "pygments_lexer": "ipython3",
      "version": "3.7.3"
    },
    "colab": {
      "name": "NLP COurse Project.ipynb",
      "provenance": [],
      "toc_visible": true
    },
    "accelerator": "GPU"
  },
  "cells": [
    {
      "cell_type": "markdown",
      "metadata": {
        "id": "iE1Jw710uWgC",
        "colab_type": "text"
      },
      "source": [
        "# Serap YALÇIN\n",
        "NLP Course Project \n",
        "29th March 2020 "
      ]
    },
    {
      "cell_type": "code",
      "metadata": {
        "id": "snOGhXztuWgm",
        "colab_type": "code",
        "colab": {
          "base_uri": "https://localhost:8080/",
          "height": 50
        },
        "outputId": "a1ac84a7-41a8-4901-f408-44e991ff9da7"
      },
      "source": [
        "import numpy as np\n",
        "import pandas as pd\n",
        "import re\n",
        "import json\n",
        "from pprint import pprint\n",
        "from snowballstemmer import TurkishStemmer\n",
        "import nltk\n",
        "nltk.download(\"stopwords\")\n",
        "from nltk.util import ngrams\n",
        "from nltk.collocations import BigramCollocationFinder\n",
        "from nltk.metrics import BigramAssocMeasures"
      ],
      "execution_count": 14,
      "outputs": [
        {
          "output_type": "stream",
          "text": [
            "[nltk_data] Downloading package stopwords to /root/nltk_data...\n",
            "[nltk_data]   Unzipping corpora/stopwords.zip.\n"
          ],
          "name": "stdout"
        }
      ]
    },
    {
      "cell_type": "markdown",
      "metadata": {
        "id": "r_xKl8epuWgx",
        "colab_type": "text"
      },
      "source": [
        "# 1- Read the dataset and parse it (i.e. tokenization, stemming, stopwords removal). (10+10= 20% of the assignment)\n"
      ]
    },
    {
      "cell_type": "code",
      "metadata": {
        "id": "bgmT1TMUuWgy",
        "colab_type": "code",
        "colab": {}
      },
      "source": [
        "##READ the Datasets \n",
        "##data=pd.read_excel(r\"C:\\Users\\budaks\\Desktop\\YL 2020 Bahar\\NLP\\MidtermProject\\cv_listesi.xlsx\")\n",
        "from google.colab import files\n",
        "uploaded = files.upload()\n",
        "\n"
      ],
      "execution_count": 0,
      "outputs": []
    },
    {
      "cell_type": "code",
      "metadata": {
        "id": "5cIOliy_vZJu",
        "colab_type": "code",
        "colab": {}
      },
      "source": [
        "data=pd.read_excel('top15.xlsx')"
      ],
      "execution_count": 0,
      "outputs": []
    },
    {
      "cell_type": "code",
      "metadata": {
        "id": "Cwy9FFcEupa8",
        "colab_type": "code",
        "outputId": "fca6a15d-5041-41e4-f815-f70bd04b172e",
        "colab": {
          "base_uri": "https://localhost:8080/",
          "height": 195
        }
      },
      "source": [
        "##READ the Datasets \n",
        "\n",
        "data.columns = ['TermId', 'Name','description','Level1Domain']\n",
        "data.head()"
      ],
      "execution_count": 6,
      "outputs": [
        {
          "output_type": "execute_result",
          "data": {
            "text/html": [
              "<div>\n",
              "<style scoped>\n",
              "    .dataframe tbody tr th:only-of-type {\n",
              "        vertical-align: middle;\n",
              "    }\n",
              "\n",
              "    .dataframe tbody tr th {\n",
              "        vertical-align: top;\n",
              "    }\n",
              "\n",
              "    .dataframe thead th {\n",
              "        text-align: right;\n",
              "    }\n",
              "</style>\n",
              "<table border=\"1\" class=\"dataframe\">\n",
              "  <thead>\n",
              "    <tr style=\"text-align: right;\">\n",
              "      <th></th>\n",
              "      <th>TermId</th>\n",
              "      <th>Name</th>\n",
              "      <th>description</th>\n",
              "      <th>Level1Domain</th>\n",
              "    </tr>\n",
              "  </thead>\n",
              "  <tbody>\n",
              "    <tr>\n",
              "      <th>0</th>\n",
              "      <td>1</td>\n",
              "      <td>kod</td>\n",
              "      <td>bankacılık kavramlarının sistem genelinde teki...</td>\n",
              "      <td>4585953</td>\n",
              "    </tr>\n",
              "    <tr>\n",
              "      <th>1</th>\n",
              "      <td>3</td>\n",
              "      <td>ad</td>\n",
              "      <td>bankacılık kavramlarını isimlendirmek için kul...</td>\n",
              "      <td>4585953</td>\n",
              "    </tr>\n",
              "    <tr>\n",
              "      <th>2</th>\n",
              "      <td>4</td>\n",
              "      <td>işlem tarihi</td>\n",
              "      <td>bankacılık işlemlerinin gercekleştirilme tarih...</td>\n",
              "      <td>4585953</td>\n",
              "    </tr>\n",
              "    <tr>\n",
              "      <th>3</th>\n",
              "      <td>5</td>\n",
              "      <td>bugünün tarihi</td>\n",
              "      <td>tüm bankacılık işlemleri için bugünün tarihini...</td>\n",
              "      <td>4585953</td>\n",
              "    </tr>\n",
              "    <tr>\n",
              "      <th>4</th>\n",
              "      <td>6</td>\n",
              "      <td>dünün tarihi</td>\n",
              "      <td>tüm bankacılık işlemleri için dünün tarihini g...</td>\n",
              "      <td>4585953</td>\n",
              "    </tr>\n",
              "  </tbody>\n",
              "</table>\n",
              "</div>"
            ],
            "text/plain": [
              "   TermId  ... Level1Domain\n",
              "0       1  ...      4585953\n",
              "1       3  ...      4585953\n",
              "2       4  ...      4585953\n",
              "3       5  ...      4585953\n",
              "4       6  ...      4585953\n",
              "\n",
              "[5 rows x 4 columns]"
            ]
          },
          "metadata": {
            "tags": []
          },
          "execution_count": 6
        }
      ]
    },
    {
      "cell_type": "code",
      "metadata": {
        "id": "8PTSm-zEuWg6",
        "colab_type": "code",
        "outputId": "e79de9f1-405d-4063-9375-ea671eeb1ae6",
        "colab": {
          "base_uri": "https://localhost:8080/",
          "height": 34
        }
      },
      "source": [
        "len(data)"
      ],
      "execution_count": 7,
      "outputs": [
        {
          "output_type": "execute_result",
          "data": {
            "text/plain": [
              "31"
            ]
          },
          "metadata": {
            "tags": []
          },
          "execution_count": 7
        }
      ]
    },
    {
      "cell_type": "code",
      "metadata": {
        "id": "eGnwzxzQwKfr",
        "colab_type": "code",
        "colab": {}
      },
      "source": [
        "from google.colab import files\n",
        "uploaded = files.upload()\n"
      ],
      "execution_count": 0,
      "outputs": []
    },
    {
      "cell_type": "code",
      "metadata": {
        "id": "Gp7s9MHeuWhB",
        "colab_type": "code",
        "colab": {}
      },
      "source": [
        "from nltk.tokenize import RegexpTokenizer\n",
        "from nltk.corpus import stopwords\n",
        "from snowballstemmer import stemmer\n",
        "import nltk\n"
      ],
      "execution_count": 0,
      "outputs": []
    },
    {
      "cell_type": "code",
      "metadata": {
        "id": "ZuEucPnVuWhH",
        "colab_type": "code",
        "colab": {}
      },
      "source": [
        "##Create functions to remove punctuation, tokenize, remove stopwords, and stem\n",
        "turkish_stops=set(stopwords.words(\"turkish\"))\n",
        "#stopwords = set(stopwords.words('english'))\n",
        "def clean_text(statement):\n",
        "    \n",
        "    tokenizer = RegexpTokenizer(r\"\\w+\")\n",
        "    statement_tokens = tokenizer.tokenize(str(statement))\n",
        "\n",
        "   ## ps = nltk.PorterStemmer()\n",
        "    ##TurkStem=TurkishStemmer()\n",
        "    TurkStem=stemmer('turkish') #snowballstemmer\n",
        "    \n",
        "    statements_clean = []     \n",
        "\n",
        "    for word in statement_tokens:\n",
        "        if word not in turkish_stops:\n",
        "            #if word not in stopwords:\n",
        "             stem_word = TurkStem.stemWord(word)\n",
        "             statements_clean.append(stem_word)\n",
        "    return statements_clean"
      ],
      "execution_count": 0,
      "outputs": []
    },
    {
      "cell_type": "code",
      "metadata": {
        "id": "rP8k86jHuWhN",
        "colab_type": "code",
        "colab": {}
      },
      "source": [
        "data[\"descriptionClean\"]=data[\"description\"].map(clean_text)\n",
        "data[\"NameClean\"]=data[\"Name\"].map(clean_text)\n"
      ],
      "execution_count": 0,
      "outputs": []
    },
    {
      "cell_type": "code",
      "metadata": {
        "id": "TommEWTVw5ZO",
        "colab_type": "code",
        "colab": {}
      },
      "source": [
        "data['descriptionClean2'] = data['descriptionClean']\n",
        "data['NameClean2'] = data['NameClean']"
      ],
      "execution_count": 0,
      "outputs": []
    },
    {
      "cell_type": "code",
      "metadata": {
        "id": "CYyk9BeguWhT",
        "colab_type": "code",
        "colab": {}
      },
      "source": [
        "import torch"
      ],
      "execution_count": 0,
      "outputs": []
    },
    {
      "cell_type": "code",
      "metadata": {
        "id": "Lnpsb3lnp4lN",
        "colab_type": "code",
        "colab": {}
      },
      "source": [
        "!pip install -U sentence-transformers"
      ],
      "execution_count": 0,
      "outputs": []
    },
    {
      "cell_type": "code",
      "metadata": {
        "id": "iV6GZ8JwuWha",
        "colab_type": "code",
        "colab": {}
      },
      "source": [
        "from sentence_transformers import SentenceTransformer"
      ],
      "execution_count": 0,
      "outputs": []
    },
    {
      "cell_type": "code",
      "metadata": {
        "id": "HMHyhajPuWhg",
        "colab_type": "code",
        "outputId": "2e22b03e-c8c0-48c7-fb77-4ccf70f3fe78",
        "colab": {
          "base_uri": "https://localhost:8080/",
          "height": 34
        }
      },
      "source": [
        "model = SentenceTransformer('bert-base-nli-mean-tokens')"
      ],
      "execution_count": 24,
      "outputs": [
        {
          "output_type": "stream",
          "text": [
            "100%|██████████| 405M/405M [00:05<00:00, 76.8MB/s]\n"
          ],
          "name": "stderr"
        }
      ]
    },
    {
      "cell_type": "code",
      "metadata": {
        "id": "P_ZTpF3XqXAh",
        "colab_type": "code",
        "colab": {}
      },
      "source": [
        "from sklearn.cluster import KMeans\n",
        "\n",
        "embedder = SentenceTransformer('bert-base-nli-mean-tokens')\n"
      ],
      "execution_count": 0,
      "outputs": []
    },
    {
      "cell_type": "code",
      "metadata": {
        "id": "cAjSG5_tuWhm",
        "colab_type": "code",
        "colab": {}
      },
      "source": [
        "\n",
        "# Corpus with example sentences\n",
        "corpus = ['A man is eating food.',\n",
        "          'A man is eating a piece of bread.',\n",
        "          'A man is eating pasta.',\n",
        "          'The girl is carrying a baby.',\n",
        "          'The baby is carried by the woman',\n",
        "          'A man is riding a horse.',\n",
        "          'A man is riding a white horse on an enclosed ground.',\n",
        "          'A monkey is playing drums.',\n",
        "          'Someone in a gorilla costume is playing a set of drums.',\n",
        "          'A cheetah is running behind its prey.',\n",
        "          'A cheetah chases prey on across a field.'\n",
        "          ]\n",
        "corpus_embeddings = embedder.encode(corpus)\n",
        "\n",
        "# Perform kmean clustering\n",
        "num_clusters = 5\n",
        "clustering_model = KMeans(n_clusters=num_clusters)\n",
        "clustering_model.fit(corpus_embeddings)\n",
        "cluster_assignment = clustering_model.labels_\n",
        "\n",
        "clustered_sentences = [[] for i in range(num_clusters)]\n",
        "for sentence_id, cluster_id in enumerate(cluster_assignment):\n",
        "    clustered_sentences[cluster_id].append(corpus[sentence_id])\n",
        "\n",
        "for i, cluster in enumerate(clustered_sentences):\n",
        "    print(\"Cluster \", i+1)\n",
        "    print(cluster)\n",
        "    print(\"\")"
      ],
      "execution_count": 0,
      "outputs": []
    },
    {
      "cell_type": "code",
      "metadata": {
        "id": "PA7dA1M6qz1U",
        "colab_type": "code",
        "colab": {
          "base_uri": "https://localhost:8080/",
          "height": 34
        },
        "outputId": "7d2fa054-a1cd-4a45-f63b-71e034ef16bf"
      },
      "source": [
        "type(corpus)"
      ],
      "execution_count": 29,
      "outputs": [
        {
          "output_type": "execute_result",
          "data": {
            "text/plain": [
              "list"
            ]
          },
          "metadata": {
            "tags": []
          },
          "execution_count": 29
        }
      ]
    },
    {
      "cell_type": "code",
      "metadata": {
        "id": "Rw1BqAq8rK1t",
        "colab_type": "code",
        "colab": {
          "base_uri": "https://localhost:8080/",
          "height": 34
        },
        "outputId": "51b02bc5-1773-4326-f4b6-4a5fdc5c90db"
      },
      "source": [
        "type((data[\"description\"]))"
      ],
      "execution_count": 36,
      "outputs": [
        {
          "output_type": "execute_result",
          "data": {
            "text/plain": [
              "pandas.core.series.Series"
            ]
          },
          "metadata": {
            "tags": []
          },
          "execution_count": 36
        }
      ]
    },
    {
      "cell_type": "code",
      "metadata": {
        "id": "sJGR3hZH18AK",
        "colab_type": "code",
        "colab": {}
      },
      "source": [
        "data_embeddings = embedder.encode((data[\"description\"]))"
      ],
      "execution_count": 0,
      "outputs": []
    },
    {
      "cell_type": "code",
      "metadata": {
        "id": "-l2CK5McsY6i",
        "colab_type": "code",
        "colab": {}
      },
      "source": [
        "data_embeddings"
      ],
      "execution_count": 0,
      "outputs": []
    },
    {
      "cell_type": "code",
      "metadata": {
        "id": "1qheOe5MuWhs",
        "colab_type": "code",
        "colab": {}
      },
      "source": [
        "num_clusters = 25\n",
        "clustering_model = KMeans(n_clusters=num_clusters)\n",
        "clustering_model.fit(data_embeddings)\n",
        "cluster_assignment = clustering_model.labels_\n",
        "\n"
      ],
      "execution_count": 0,
      "outputs": []
    },
    {
      "cell_type": "code",
      "metadata": {
        "id": "LNkkYWxnuWhz",
        "colab_type": "code",
        "colab": {
          "base_uri": "https://localhost:8080/",
          "height": 50
        },
        "outputId": "53bcf06a-badf-4106-f842-d1b9eba2811f"
      },
      "source": [
        "cluster_assignment"
      ],
      "execution_count": 40,
      "outputs": [
        {
          "output_type": "execute_result",
          "data": {
            "text/plain": [
              "array([9, 6, 1, 1, 1, 6, 4, 5, 7, 7, 0, 0, 4, 0, 3, 0, 6, 6, 1, 8, 2, 4,\n",
              "       6, 0, 6, 7, 6, 0, 4, 0, 0], dtype=int32)"
            ]
          },
          "metadata": {
            "tags": []
          },
          "execution_count": 40
        }
      ]
    },
    {
      "cell_type": "code",
      "metadata": {
        "scrolled": true,
        "id": "rLE3_lJyuWh5",
        "colab_type": "code",
        "colab": {}
      },
      "source": [
        "data[\"label\"] =  cluster_assignment"
      ],
      "execution_count": 0,
      "outputs": []
    },
    {
      "cell_type": "code",
      "metadata": {
        "scrolled": true,
        "id": "HE2O6jv3uWh_",
        "colab_type": "code",
        "colab": {
          "base_uri": "https://localhost:8080/",
          "height": 1000
        },
        "outputId": "48b03fa5-c46b-4a05-b588-54c2375db8a9"
      },
      "source": [
        "data"
      ],
      "execution_count": 48,
      "outputs": [
        {
          "output_type": "execute_result",
          "data": {
            "text/html": [
              "<div>\n",
              "<style scoped>\n",
              "    .dataframe tbody tr th:only-of-type {\n",
              "        vertical-align: middle;\n",
              "    }\n",
              "\n",
              "    .dataframe tbody tr th {\n",
              "        vertical-align: top;\n",
              "    }\n",
              "\n",
              "    .dataframe thead th {\n",
              "        text-align: right;\n",
              "    }\n",
              "</style>\n",
              "<table border=\"1\" class=\"dataframe\">\n",
              "  <thead>\n",
              "    <tr style=\"text-align: right;\">\n",
              "      <th></th>\n",
              "      <th>TermId</th>\n",
              "      <th>Name</th>\n",
              "      <th>description</th>\n",
              "      <th>Level1Domain</th>\n",
              "      <th>descriptionClean</th>\n",
              "      <th>NameClean</th>\n",
              "      <th>descriptionClean2</th>\n",
              "      <th>NameClean2</th>\n",
              "      <th>label</th>\n",
              "    </tr>\n",
              "  </thead>\n",
              "  <tbody>\n",
              "    <tr>\n",
              "      <th>0</th>\n",
              "      <td>1</td>\n",
              "      <td>kod</td>\n",
              "      <td>bankacılık kavramlarının sistem genelinde teki...</td>\n",
              "      <td>4585953</td>\n",
              "      <td>[bankacılık, kavram, siste, genel, tekil, ayır...</td>\n",
              "      <td>[kod]</td>\n",
              "      <td>[bankacılık, kavram, siste, genel, tekil, ayır...</td>\n",
              "      <td>[kod]</td>\n",
              "      <td>5</td>\n",
              "    </tr>\n",
              "    <tr>\n",
              "      <th>1</th>\n",
              "      <td>3</td>\n",
              "      <td>ad</td>\n",
              "      <td>bankacılık kavramlarını isimlendirmek için kul...</td>\n",
              "      <td>4585953</td>\n",
              "      <td>[bankacılık, kavram, isimlendirmek, kullanıla,...</td>\n",
              "      <td>[ad]</td>\n",
              "      <td>[bankacılık, kavram, isimlendirmek, kullanıla,...</td>\n",
              "      <td>[ad]</td>\n",
              "      <td>19</td>\n",
              "    </tr>\n",
              "    <tr>\n",
              "      <th>2</th>\n",
              "      <td>4</td>\n",
              "      <td>işlem tarihi</td>\n",
              "      <td>bankacılık işlemlerinin gercekleştirilme tarih...</td>\n",
              "      <td>4585953</td>\n",
              "      <td>[bankacılık, işlem, gercekleştirilme, tarih, g...</td>\n",
              "      <td>[işle, tarih]</td>\n",
              "      <td>[bankacılık, işlem, gercekleştirilme, tarih, g...</td>\n",
              "      <td>[işle, tarih]</td>\n",
              "      <td>4</td>\n",
              "    </tr>\n",
              "    <tr>\n",
              "      <th>3</th>\n",
              "      <td>5</td>\n",
              "      <td>bugünün tarihi</td>\n",
              "      <td>tüm bankacılık işlemleri için bugünün tarihini...</td>\n",
              "      <td>4585953</td>\n",
              "      <td>[bankacılık, işlem, bugü, tarih, göstere, ver]</td>\n",
              "      <td>[bugü, tarih]</td>\n",
              "      <td>[bankacılık, işlem, bugü, tarih, göstere, ver]</td>\n",
              "      <td>[bugü, tarih]</td>\n",
              "      <td>16</td>\n",
              "    </tr>\n",
              "    <tr>\n",
              "      <th>4</th>\n",
              "      <td>6</td>\n",
              "      <td>dünün tarihi</td>\n",
              "      <td>tüm bankacılık işlemleri için dünün tarihini g...</td>\n",
              "      <td>4585953</td>\n",
              "      <td>[bankacılık, işlem, dü, tarih, göstere, ver]</td>\n",
              "      <td>[dü, tarih]</td>\n",
              "      <td>[bankacılık, işlem, dü, tarih, göstere, ver]</td>\n",
              "      <td>[dü, tarih]</td>\n",
              "      <td>16</td>\n",
              "    </tr>\n",
              "    <tr>\n",
              "      <th>5</th>\n",
              "      <td>7</td>\n",
              "      <td>yarının tarihi</td>\n",
              "      <td>tüm bankacılık işlemleri için yarının tarihini...</td>\n",
              "      <td>4585953</td>\n",
              "      <td>[bankacılık, işlem, yar, tarih, göstere, ver]</td>\n",
              "      <td>[yar, tarih]</td>\n",
              "      <td>[bankacılık, işlem, yar, tarih, göstere, ver]</td>\n",
              "      <td>[yar, tarih]</td>\n",
              "      <td>16</td>\n",
              "    </tr>\n",
              "    <tr>\n",
              "      <th>6</th>\n",
              "      <td>8</td>\n",
              "      <td>ıd</td>\n",
              "      <td>her bir kayıt için sistem tarafından oluşturul...</td>\n",
              "      <td>4585953</td>\n",
              "      <td>[bir, kayıt, siste, taraf, oluşturula, benzers...</td>\n",
              "      <td>[ıd]</td>\n",
              "      <td>[bir, kayıt, siste, taraf, oluşturula, benzers...</td>\n",
              "      <td>[ıd]</td>\n",
              "      <td>17</td>\n",
              "    </tr>\n",
              "    <tr>\n",
              "      <th>7</th>\n",
              "      <td>9</td>\n",
              "      <td>kanal</td>\n",
              "      <td>müşteri ile kuveyt türk arasında köprü olan he...</td>\n",
              "      <td>4585953</td>\n",
              "      <td>[müşter, kuveyt, türk, ara, köprü, ola, türlü,...</td>\n",
              "      <td>[kanal]</td>\n",
              "      <td>[müşter, kuveyt, türk, ara, köprü, ola, türlü,...</td>\n",
              "      <td>[kanal]</td>\n",
              "      <td>6</td>\n",
              "    </tr>\n",
              "    <tr>\n",
              "      <th>8</th>\n",
              "      <td>11</td>\n",
              "      <td>ithalat</td>\n",
              "      <td>bir ülkede yerleşik kişi ve kurumların diğer ü...</td>\n",
              "      <td>4586010</td>\n",
              "      <td>[bir, ülke, yerleşik, kiş, kur, diğer, ülke, m...</td>\n",
              "      <td>[ithalat]</td>\n",
              "      <td>[bir, ülke, yerleşik, kiş, kur, diğer, ülke, m...</td>\n",
              "      <td>[ithalat]</td>\n",
              "      <td>7</td>\n",
              "    </tr>\n",
              "    <tr>\n",
              "      <th>9</th>\n",
              "      <td>12</td>\n",
              "      <td>tarih</td>\n",
              "      <td>bir işlemin gününü ayını ve yılını bildiren ve...</td>\n",
              "      <td>4585953</td>\n",
              "      <td>[bir, işle, gün, ay, yıl, bildire, ver]</td>\n",
              "      <td>[tarih]</td>\n",
              "      <td>[bir, işle, gün, ay, yıl, bildire, ver]</td>\n",
              "      <td>[tarih]</td>\n",
              "      <td>13</td>\n",
              "    </tr>\n",
              "    <tr>\n",
              "      <th>10</th>\n",
              "      <td>13</td>\n",
              "      <td>başlangıç tarihi</td>\n",
              "      <td>bankacılık işlem veya sürecinin geçerli olduğu...</td>\n",
              "      <td>4585953</td>\n",
              "      <td>[bankacılık, işle, süreç, geçerli, olduk, zama...</td>\n",
              "      <td>[başlangıç, tarih]</td>\n",
              "      <td>[bankacılık, işle, süreç, geçerli, olduk, zama...</td>\n",
              "      <td>[başlangıç, tarih]</td>\n",
              "      <td>15</td>\n",
              "    </tr>\n",
              "    <tr>\n",
              "      <th>11</th>\n",
              "      <td>14</td>\n",
              "      <td>bitiş tarihi</td>\n",
              "      <td>bankacılık işlem veya sürecinin geçerli olduğu...</td>\n",
              "      <td>4585953</td>\n",
              "      <td>[bankacılık, işle, süreç, geçerli, olduk, zama...</td>\n",
              "      <td>[bitiş, tarih]</td>\n",
              "      <td>[bankacılık, işle, süreç, geçerli, olduk, zama...</td>\n",
              "      <td>[bitiş, tarih]</td>\n",
              "      <td>15</td>\n",
              "    </tr>\n",
              "    <tr>\n",
              "      <th>12</th>\n",
              "      <td>18</td>\n",
              "      <td>numara</td>\n",
              "      <td>benzer şeyleri ayırt etmek için her birine işa...</td>\n",
              "      <td>4585953</td>\n",
              "      <td>[benzer, şey, ayırt, etmek, bir, işaret, olara...</td>\n",
              "      <td>[numar]</td>\n",
              "      <td>[benzer, şey, ayırt, etmek, bir, işaret, olara...</td>\n",
              "      <td>[numar]</td>\n",
              "      <td>8</td>\n",
              "    </tr>\n",
              "    <tr>\n",
              "      <th>13</th>\n",
              "      <td>22</td>\n",
              "      <td>periyod</td>\n",
              "      <td>bankacılık işlem sürecinin gerçekleşme sıklığı...</td>\n",
              "      <td>4585953</td>\n",
              "      <td>[bankacılık, işle, süreç, gerçekleşme, sıklık,...</td>\n",
              "      <td>[periyodu]</td>\n",
              "      <td>[bankacılık, işle, süreç, gerçekleşme, sıklık,...</td>\n",
              "      <td>[periyodu]</td>\n",
              "      <td>22</td>\n",
              "    </tr>\n",
              "    <tr>\n",
              "      <th>14</th>\n",
              "      <td>26</td>\n",
              "      <td>müşteri tipi</td>\n",
              "      <td>müşterilerin tasnif edilerek kurum içerinde al...</td>\n",
              "      <td>4586006</td>\n",
              "      <td>[müşter, tasnif, edilerek, kur, içer, al, oldu...</td>\n",
              "      <td>[müşter, tip]</td>\n",
              "      <td>[müşter, tasnif, edilerek, kur, içer, al, oldu...</td>\n",
              "      <td>[müşter, tip]</td>\n",
              "      <td>9</td>\n",
              "    </tr>\n",
              "    <tr>\n",
              "      <th>15</th>\n",
              "      <td>29</td>\n",
              "      <td>rol</td>\n",
              "      <td>bankacılık işlemlerini gercekleştiren veya işl...</td>\n",
              "      <td>4585953</td>\n",
              "      <td>[bankacılık, işlem, gercekleştire, işlem, etki...</td>\n",
              "      <td>[rol]</td>\n",
              "      <td>[bankacılık, işlem, gercekleştire, işlem, etki...</td>\n",
              "      <td>[rol]</td>\n",
              "      <td>11</td>\n",
              "    </tr>\n",
              "    <tr>\n",
              "      <th>16</th>\n",
              "      <td>30</td>\n",
              "      <td>kullanıcı rolü</td>\n",
              "      <td>bankacılık işlemlerinde banka personelinin ilg...</td>\n",
              "      <td>4585953</td>\n",
              "      <td>[bankacılık, işlem, banka, personel, ilgil, sü...</td>\n",
              "      <td>[kullanıç, rolü]</td>\n",
              "      <td>[bankacılık, işlem, banka, personel, ilgil, sü...</td>\n",
              "      <td>[kullanıç, rolü]</td>\n",
              "      <td>23</td>\n",
              "    </tr>\n",
              "    <tr>\n",
              "      <th>17</th>\n",
              "      <td>31</td>\n",
              "      <td>tutar</td>\n",
              "      <td>bankacılık işlemlerinde işleme ait para tutarı...</td>\n",
              "      <td>4585953</td>\n",
              "      <td>[bankacılık, işlem, işle, ait, par, tutar, meb...</td>\n",
              "      <td>[tutar]</td>\n",
              "      <td>[bankacılık, işlem, işle, ait, par, tutar, meb...</td>\n",
              "      <td>[tutar]</td>\n",
              "      <td>24</td>\n",
              "    </tr>\n",
              "    <tr>\n",
              "      <th>18</th>\n",
              "      <td>33</td>\n",
              "      <td>sistem tarihi</td>\n",
              "      <td>bankacılık işlemlerinin gerçekleştiği andaki g...</td>\n",
              "      <td>4585953</td>\n",
              "      <td>[bankacılık, işlem, gerçekleştik, an, gerçek, ...</td>\n",
              "      <td>[siste, tarih]</td>\n",
              "      <td>[bankacılık, işlem, gerçekleştik, an, gerçek, ...</td>\n",
              "      <td>[siste, tarih]</td>\n",
              "      <td>4</td>\n",
              "    </tr>\n",
              "    <tr>\n",
              "      <th>19</th>\n",
              "      <td>34</td>\n",
              "      <td>hesap ek no</td>\n",
              "      <td>bankacılık ürün ve hizmetleri için kullanılan ...</td>\n",
              "      <td>4586006</td>\n",
              "      <td>[bankacılık, ür, hizmet, kullanıla, hesap, hes...</td>\n",
              "      <td>[hesap, ek, no]</td>\n",
              "      <td>[bankacılık, ür, hizmet, kullanıla, hesap, hes...</td>\n",
              "      <td>[hesap, ek, no]</td>\n",
              "      <td>10</td>\n",
              "    </tr>\n",
              "    <tr>\n",
              "      <th>20</th>\n",
              "      <td>36</td>\n",
              "      <td>unit</td>\n",
              "      <td>alt şube veya xtm şube bilgisidir</td>\n",
              "      <td>4585953</td>\n",
              "      <td>[alt, şube, xtm, şube, bilgis]</td>\n",
              "      <td>[unit]</td>\n",
              "      <td>[alt, şube, xtm, şube, bilgis]</td>\n",
              "      <td>[unit]</td>\n",
              "      <td>1</td>\n",
              "    </tr>\n",
              "    <tr>\n",
              "      <th>21</th>\n",
              "      <td>37</td>\n",
              "      <td>kişi tipi</td>\n",
              "      <td>kişileri niteliklerine göre ayırt etmek için k...</td>\n",
              "      <td>4586006</td>\n",
              "      <td>[kişi, nitelik, gör, ayırt, etmek, kullanıla, ...</td>\n",
              "      <td>[kiş, tip]</td>\n",
              "      <td>[kişi, nitelik, gör, ayırt, etmek, kullanıla, ...</td>\n",
              "      <td>[kiş, tip]</td>\n",
              "      <td>18</td>\n",
              "    </tr>\n",
              "    <tr>\n",
              "      <th>22</th>\n",
              "      <td>39</td>\n",
              "      <td>kullanıcı adı</td>\n",
              "      <td>bankacılık işlemlerini yapan personeli veya ot...</td>\n",
              "      <td>4585953</td>\n",
              "      <td>[bankacılık, işlem, yapa, personel, otomasyo, ...</td>\n",
              "      <td>[kullanıç, ad]</td>\n",
              "      <td>[bankacılık, işlem, yapa, personel, otomasyo, ...</td>\n",
              "      <td>[kullanıç, ad]</td>\n",
              "      <td>14</td>\n",
              "    </tr>\n",
              "    <tr>\n",
              "      <th>23</th>\n",
              "      <td>40</td>\n",
              "      <td>durum</td>\n",
              "      <td>tüm bankacılık ürün ve hizmetleri için ilgili ...</td>\n",
              "      <td>4585953</td>\n",
              "      <td>[bankacılık, ür, hizmet, ilgil, ür, hizmet, ba...</td>\n",
              "      <td>[dur]</td>\n",
              "      <td>[bankacılık, ür, hizmet, ilgil, ür, hizmet, ba...</td>\n",
              "      <td>[dur]</td>\n",
              "      <td>2</td>\n",
              "    </tr>\n",
              "    <tr>\n",
              "      <th>24</th>\n",
              "      <td>41</td>\n",
              "      <td>iş akışı durumu</td>\n",
              "      <td>bankacılık süreçleri acısından işletilen iş ak...</td>\n",
              "      <td>4585953</td>\n",
              "      <td>[bankacılık, süreç, acı, işletile, iş, akış, t...</td>\n",
              "      <td>[iş, akış, dur]</td>\n",
              "      <td>[bankacılık, süreç, acı, işletile, iş, akış, t...</td>\n",
              "      <td>[iş, akış, dur]</td>\n",
              "      <td>14</td>\n",
              "    </tr>\n",
              "    <tr>\n",
              "      <th>25</th>\n",
              "      <td>42</td>\n",
              "      <td>sistem çalışma günü</td>\n",
              "      <td>işlem için baz alınacak çalışma günü bilgisidir</td>\n",
              "      <td>4585953</td>\n",
              "      <td>[işle, baz, alınacak, çalışma, g, bilgis]</td>\n",
              "      <td>[siste, çalışma, g]</td>\n",
              "      <td>[işle, baz, alınacak, çalışma, g, bilgis]</td>\n",
              "      <td>[siste, çalışma, g]</td>\n",
              "      <td>12</td>\n",
              "    </tr>\n",
              "    <tr>\n",
              "      <th>26</th>\n",
              "      <td>44</td>\n",
              "      <td>bilgisayar adı</td>\n",
              "      <td>bankacılık işlemlerinin yapıldığı personel vey...</td>\n",
              "      <td>4585953</td>\n",
              "      <td>[bankacılık, işlem, yapıldık, personel, otomas...</td>\n",
              "      <td>[bilgisayar, ad]</td>\n",
              "      <td>[bankacılık, işlem, yapıldık, personel, otomas...</td>\n",
              "      <td>[bilgisayar, ad]</td>\n",
              "      <td>0</td>\n",
              "    </tr>\n",
              "    <tr>\n",
              "      <th>27</th>\n",
              "      <td>45</td>\n",
              "      <td>şube</td>\n",
              "      <td>bankaya bağlı kendi muhasebesi bulunan ve bank...</td>\n",
              "      <td>4585953</td>\n",
              "      <td>[banka, bağlı, ke, muhasebes, buluna, bankacıl...</td>\n",
              "      <td>[şube]</td>\n",
              "      <td>[banka, bağlı, ke, muhasebes, buluna, bankacıl...</td>\n",
              "      <td>[şube]</td>\n",
              "      <td>20</td>\n",
              "    </tr>\n",
              "    <tr>\n",
              "      <th>28</th>\n",
              "      <td>48</td>\n",
              "      <td>işlem anahtarı</td>\n",
              "      <td>boa sisteminde işlem tarihi ekran adı aksiyon ...</td>\n",
              "      <td>4585953</td>\n",
              "      <td>[boa, sistem, işle, tarih, ekra, ad, aksiyo, a...</td>\n",
              "      <td>[işle, anahtar]</td>\n",
              "      <td>[boa, sistem, işle, tarih, ekra, ad, aksiyo, a...</td>\n",
              "      <td>[işle, anahtar]</td>\n",
              "      <td>3</td>\n",
              "    </tr>\n",
              "    <tr>\n",
              "      <th>29</th>\n",
              "      <td>49</td>\n",
              "      <td>güncelleyen kullanıcı adı</td>\n",
              "      <td>bankacılık sistemine yeni kayıt edilen veri ve...</td>\n",
              "      <td>4585953</td>\n",
              "      <td>[bankacılık, sistem, ye, kayıt, edile, ver, va...</td>\n",
              "      <td>[güncelleye, kullanıç, ad]</td>\n",
              "      <td>[bankacılık, sistem, ye, kayıt, edile, ver, va...</td>\n",
              "      <td>[güncelleye, kullanıç, ad]</td>\n",
              "      <td>21</td>\n",
              "    </tr>\n",
              "    <tr>\n",
              "      <th>30</th>\n",
              "      <td>50</td>\n",
              "      <td>güncelleme sistem tarihi</td>\n",
              "      <td>bankacılık sistemine yeni kayıt edilen verinin...</td>\n",
              "      <td>4585953</td>\n",
              "      <td>[bankacılık, sistem, ye, kayıt, edile, ver, va...</td>\n",
              "      <td>[güncelle, siste, tarih]</td>\n",
              "      <td>[bankacılık, sistem, ye, kayıt, edile, ver, va...</td>\n",
              "      <td>[güncelle, siste, tarih]</td>\n",
              "      <td>21</td>\n",
              "    </tr>\n",
              "  </tbody>\n",
              "</table>\n",
              "</div>"
            ],
            "text/plain": [
              "    TermId                       Name  ...                  NameClean2  label\n",
              "0        1                        kod  ...                       [kod]      5\n",
              "1        3                         ad  ...                        [ad]     19\n",
              "2        4               işlem tarihi  ...               [işle, tarih]      4\n",
              "3        5             bugünün tarihi  ...               [bugü, tarih]     16\n",
              "4        6               dünün tarihi  ...                 [dü, tarih]     16\n",
              "5        7             yarının tarihi  ...                [yar, tarih]     16\n",
              "6        8                         ıd  ...                        [ıd]     17\n",
              "7        9                      kanal  ...                     [kanal]      6\n",
              "8       11                    ithalat  ...                   [ithalat]      7\n",
              "9       12                      tarih  ...                     [tarih]     13\n",
              "10      13           başlangıç tarihi  ...          [başlangıç, tarih]     15\n",
              "11      14               bitiş tarihi  ...              [bitiş, tarih]     15\n",
              "12      18                     numara  ...                     [numar]      8\n",
              "13      22                    periyod  ...                  [periyodu]     22\n",
              "14      26               müşteri tipi  ...               [müşter, tip]      9\n",
              "15      29                        rol  ...                       [rol]     11\n",
              "16      30             kullanıcı rolü  ...            [kullanıç, rolü]     23\n",
              "17      31                      tutar  ...                     [tutar]     24\n",
              "18      33              sistem tarihi  ...              [siste, tarih]      4\n",
              "19      34                hesap ek no  ...             [hesap, ek, no]     10\n",
              "20      36                       unit  ...                      [unit]      1\n",
              "21      37                  kişi tipi  ...                  [kiş, tip]     18\n",
              "22      39              kullanıcı adı  ...              [kullanıç, ad]     14\n",
              "23      40                      durum  ...                       [dur]      2\n",
              "24      41            iş akışı durumu  ...             [iş, akış, dur]     14\n",
              "25      42        sistem çalışma günü  ...         [siste, çalışma, g]     12\n",
              "26      44             bilgisayar adı  ...            [bilgisayar, ad]      0\n",
              "27      45                       şube  ...                      [şube]     20\n",
              "28      48             işlem anahtarı  ...             [işle, anahtar]      3\n",
              "29      49  güncelleyen kullanıcı adı  ...  [güncelleye, kullanıç, ad]     21\n",
              "30      50   güncelleme sistem tarihi  ...    [güncelle, siste, tarih]     21\n",
              "\n",
              "[31 rows x 9 columns]"
            ]
          },
          "metadata": {
            "tags": []
          },
          "execution_count": 48
        }
      ]
    },
    {
      "cell_type": "code",
      "metadata": {
        "id": "kkS_IcNPuWiE",
        "colab_type": "code",
        "colab": {}
      },
      "source": [
        ""
      ],
      "execution_count": 0,
      "outputs": []
    },
    {
      "cell_type": "code",
      "metadata": {
        "id": "lS8MnSSmt7BS",
        "colab_type": "code",
        "colab": {}
      },
      "source": [
        ""
      ],
      "execution_count": 0,
      "outputs": []
    },
    {
      "cell_type": "code",
      "metadata": {
        "id": "UUcSlLDit626",
        "colab_type": "code",
        "colab": {}
      },
      "source": [
        ""
      ],
      "execution_count": 0,
      "outputs": []
    },
    {
      "cell_type": "code",
      "metadata": {
        "id": "tLtLV2Oct6zg",
        "colab_type": "code",
        "colab": {}
      },
      "source": [
        ""
      ],
      "execution_count": 0,
      "outputs": []
    },
    {
      "cell_type": "code",
      "metadata": {
        "id": "prHbu-98t6pL",
        "colab_type": "code",
        "colab": {}
      },
      "source": [
        ""
      ],
      "execution_count": 0,
      "outputs": []
    },
    {
      "cell_type": "code",
      "metadata": {
        "scrolled": true,
        "id": "fIn7g_peuWiK",
        "colab_type": "code",
        "colab": {}
      },
      "source": [
        ""
      ],
      "execution_count": 0,
      "outputs": []
    }
  ]
}